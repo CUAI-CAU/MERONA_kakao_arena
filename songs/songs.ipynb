{
 "cells": [
  {
   "cell_type": "markdown",
   "id": "d4f14ce7",
   "metadata": {
    "id": "d4f14ce7"
   },
   "source": [
    "# MultiVAE for Collaborative Filtering"
   ]
  },
  {
   "cell_type": "markdown",
   "id": "02926ab6",
   "metadata": {
    "id": "02926ab6"
   },
   "source": [
    "# 1. 모듈 load"
   ]
  },
  {
   "cell_type": "code",
   "execution_count": 1,
   "id": "60bd5467",
   "metadata": {
    "id": "60bd5467"
   },
   "outputs": [],
   "source": [
    "import os\n",
    "import shutil\n",
    "import sys\n",
    "\n",
    "import numpy as np\n",
    "from scipy import sparse\n",
    "\n",
    "import matplotlib.pyplot as plt\n",
    "%matplotlib inline\n",
    "\n",
    "#import seaborn as sn\n",
    "#sn.set()\n",
    "\n",
    "import pandas as pd\n",
    "\n",
    "import tensorflow as tf"
   ]
  },
  {
   "cell_type": "code",
   "execution_count": 2,
   "id": "9e2dbe9e",
   "metadata": {
    "colab": {
     "base_uri": "https://localhost:8080/"
    },
    "executionInfo": {
     "elapsed": 10,
     "status": "ok",
     "timestamp": 1642774771624,
     "user": {
      "displayName": "권송아",
      "photoUrl": "https://lh3.googleusercontent.com/a/default-user=s64",
      "userId": "17413402186240137810"
     },
     "user_tz": -540
    },
    "id": "9e2dbe9e",
    "outputId": "60ac3d0d-6af3-46f1-d119-a0233b1e0762"
   },
   "outputs": [
    {
     "name": "stdout",
     "output_type": "stream",
     "text": [
      "tensorflow version:  2.7.0\n"
     ]
    }
   ],
   "source": [
    "print(\"tensorflow version: \", tf.__version__)"
   ]
  },
  {
   "cell_type": "code",
   "execution_count": 3,
   "id": "e6909726",
   "metadata": {},
   "outputs": [
    {
     "data": {
      "text/plain": [
       "\"gpu_info = !nvidia-smi\\ngpu_info = '\\n'.join(gpu_info)\\nif gpu_info.find('failed') >= 0:\\n    print('Not connected to a GPU')\\nelse:\\n    print(gpu_info)\""
      ]
     },
     "execution_count": 3,
     "metadata": {},
     "output_type": "execute_result"
    }
   ],
   "source": [
    "\"\"\"gpu_info = !nvidia-smi\n",
    "gpu_info = '\\n'.join(gpu_info)\n",
    "if gpu_info.find('failed') >= 0:\n",
    "    print('Not connected to a GPU')\n",
    "else:\n",
    "    print(gpu_info)\"\"\""
   ]
  },
  {
   "cell_type": "code",
   "execution_count": 4,
   "id": "c2658003",
   "metadata": {},
   "outputs": [
    {
     "data": {
      "text/plain": [
       "\"from psutil import virtual_memory\\nram_gb = virtual_memory().total / 1e9\\nprint('Your runtime has {:.1f} gigabytes of available RAM\\n'.format(ram_gb))\\n\\nif ram_gb < 20:\\n    print('Not using a high-RAM runtime')\\nelse:\\n    print('You are using a high-RAM runtime!')\""
      ]
     },
     "execution_count": 4,
     "metadata": {},
     "output_type": "execute_result"
    }
   ],
   "source": [
    "\"\"\"from psutil import virtual_memory\n",
    "ram_gb = virtual_memory().total / 1e9\n",
    "print('Your runtime has {:.1f} gigabytes of available RAM\\n'.format(ram_gb))\n",
    "\n",
    "if ram_gb < 20:\n",
    "    print('Not using a high-RAM runtime')\n",
    "else:\n",
    "    print('You are using a high-RAM runtime!')\"\"\""
   ]
  },
  {
   "cell_type": "markdown",
   "id": "c3cd574b",
   "metadata": {
    "id": "c3cd574b"
   },
   "source": [
    "# 2. 데이터 로드"
   ]
  },
  {
   "cell_type": "code",
   "execution_count": 5,
   "id": "ddvJ__WNWAkZ",
   "metadata": {
    "id": "ddvJ__WNWAkZ"
   },
   "outputs": [],
   "source": [
    "def ply_by_songs(data):\n",
    "    dataset = data[['id', 'songs']]\n",
    "    dataset = dataset.sort_values(by='id', ascending=True)\n",
    "    dataset_split = dataset.explode('songs')\n",
    "    dataset_split = dataset_split.reset_index(drop=True)\n",
    "    return dataset_split"
   ]
  },
  {
   "cell_type": "code",
   "execution_count": 6,
   "id": "TqzzcGVFTjNR",
   "metadata": {
    "colab": {
     "base_uri": "https://localhost:8080/"
    },
    "executionInfo": {
     "elapsed": 1893,
     "status": "ok",
     "timestamp": 1642774773509,
     "user": {
      "displayName": "권송아",
      "photoUrl": "https://lh3.googleusercontent.com/a/default-user=s64",
      "userId": "17413402186240137810"
     },
     "user_tz": -540
    },
    "id": "TqzzcGVFTjNR",
    "outputId": "04d2611f-450d-4f2a-d6c2-78cfa3f507d3"
   },
   "outputs": [],
   "source": [
    "#from google.colab import drive\n",
    "#drive.mount('/content/gdrive')"
   ]
  },
  {
   "cell_type": "code",
   "execution_count": 8,
   "id": "uBMwIecOToER",
   "metadata": {
    "id": "uBMwIecOToER"
   },
   "outputs": [],
   "source": [
    "DATA_DIR_RAW = './data/raw' # 디렉토리 설정\n",
    "raw_data = pd.read_json(os.path.join(DATA_DIR_RAW, 'train.json'),typ = 'frame')"
   ]
  },
  {
   "cell_type": "code",
   "execution_count": 9,
   "id": "87LEOUfaV13R",
   "metadata": {
    "id": "87LEOUfaV13R"
   },
   "outputs": [],
   "source": [
    "n_songs = int(max(ply_by_songs(raw_data)['songs'])+1)\n",
    "n_ply = len(pd.unique(raw_data['id']))"
   ]
  },
  {
   "cell_type": "code",
   "execution_count": 10,
   "id": "IQ1p5LLrWOTf",
   "metadata": {
    "colab": {
     "base_uri": "https://localhost:8080/"
    },
    "executionInfo": {
     "elapsed": 4,
     "status": "ok",
     "timestamp": 1642774777753,
     "user": {
      "displayName": "권송아",
      "photoUrl": "https://lh3.googleusercontent.com/a/default-user=s64",
      "userId": "17413402186240137810"
     },
     "user_tz": -540
    },
    "id": "IQ1p5LLrWOTf",
    "outputId": "6e385556-030a-4a81-a650-e533ebdc0659"
   },
   "outputs": [
    {
     "data": {
      "text/plain": [
       "(707989, 115071)"
      ]
     },
     "execution_count": 10,
     "metadata": {},
     "output_type": "execute_result"
    }
   ],
   "source": [
    "n_songs, n_ply"
   ]
  },
  {
   "cell_type": "markdown",
   "id": "6678026e",
   "metadata": {
    "id": "6678026e"
   },
   "source": [
    "## 2-1. 데이터 Split"
   ]
  },
  {
   "cell_type": "code",
   "execution_count": 11,
   "id": "1VTLJrIUU0X5",
   "metadata": {
    "id": "1VTLJrIUU0X5"
   },
   "outputs": [],
   "source": [
    "unique_id = pd.unique(raw_data['id'])\n",
    "\n",
    "np.random.seed(98765)\n",
    "idx_perm = np.random.permutation(unique_id.size) # 랜덤으로 섞기\n",
    "unique_id = unique_id[idx_perm]\n",
    "\n",
    "n_ply = unique_id.size\n",
    "n_heldout_ply = 10000\n",
    "\n",
    "train_id = unique_id[:(n_ply - n_heldout_ply * 3)]\n",
    "valid_id = unique_id[(n_ply - n_heldout_ply * 3):(n_ply - n_heldout_ply)]\n",
    "test_id = unique_id[(n_ply - n_heldout_ply):]"
   ]
  },
  {
   "cell_type": "code",
   "execution_count": 12,
   "id": "3xbhnu85zYs6",
   "metadata": {
    "id": "3xbhnu85zYs6"
   },
   "outputs": [],
   "source": [
    "train_data = ply_by_songs(raw_data.loc[raw_data['id'].isin(train_id)])"
   ]
  },
  {
   "cell_type": "code",
   "execution_count": 13,
   "id": "GACUxNwwzcr9",
   "metadata": {
    "id": "GACUxNwwzcr9"
   },
   "outputs": [],
   "source": [
    "def get_count(data, id):\n",
    "    count_byid = data[[id]].groupby(id, as_index=False)\n",
    "    count = count_byid.size()\n",
    "    return count\n",
    "\n",
    "# 필터링 코드\n",
    "def filter_triplets(data, id, min_uc=10, min_sc=0):\n",
    "    # min_sc: min_sc개 미만으로 포함되어 있는 노래 삭제\n",
    "    if min_sc > 0:\n",
    "        songs_count = get_count(data, id)\n",
    "        data = data[data[id].isin(data.index[songs_count['size'] >= min_sc])]\n",
    "\n",
    "    # min_pc: 노래가 min_pc 개 미만인 플레이리스트 삭제\n",
    "    if min_uc > 0:\n",
    "        ply_count = get_count(data, 'id')\n",
    "        data = data[data['id'].isin(ply_count.index[ply_count['size'] >= min_uc])]\n",
    "       \n",
    "    # Update both usercount and itemcount after filtering\n",
    "    ply_count, songs_count = get_count(data, 'id'), get_count(data, id) \n",
    "    return data, ply_count, songs_count"
   ]
  },
  {
   "cell_type": "code",
   "execution_count": 14,
   "id": "auQSrRx4VgAY",
   "metadata": {
    "id": "auQSrRx4VgAY"
   },
   "outputs": [],
   "source": [
    "train_data, _, _ = filter_triplets(train_data, 'songs')\n",
    "train_unique_songs = pd.unique(train_data['songs'])"
   ]
  },
  {
   "cell_type": "code",
   "execution_count": 15,
   "id": "977729f3",
   "metadata": {
    "id": "977729f3"
   },
   "outputs": [],
   "source": [
    "valid_data = ply_by_songs(raw_data.loc[raw_data['id'].isin(valid_id)])\n",
    "valid_data = valid_data.loc[valid_data['songs'].isin(train_unique_songs)]"
   ]
  },
  {
   "cell_type": "code",
   "execution_count": 16,
   "id": "999d6b8d",
   "metadata": {
    "id": "999d6b8d"
   },
   "outputs": [],
   "source": [
    "test_data = ply_by_songs(raw_data.loc[raw_data['id'].isin(test_id)])\n",
    "test_data = test_data.loc[test_data['songs'].isin(train_unique_songs)]"
   ]
  },
  {
   "cell_type": "markdown",
   "id": "f01ff118",
   "metadata": {
    "id": "f01ff118"
   },
   "source": [
    "#### validation users & test users"
   ]
  },
  {
   "cell_type": "code",
   "execution_count": 17,
   "id": "818b4687",
   "metadata": {
    "id": "818b4687"
   },
   "outputs": [],
   "source": [
    "def split_train_test_proportion(data, test_prop=0.2):\n",
    "    data_grouped_by_ply = data.groupby('id')\n",
    "    train, test = list(), list()\n",
    "\n",
    "    np.random.seed(98765)\n",
    "    for i, (_, group) in enumerate(data_grouped_by_ply):\n",
    "        n_songs = len(group)\n",
    "\n",
    "        if n_songs >= 5: # 플레이리스트에 5개가 넘는 노래가 있는 경우 0.2 비율로 랜덤으로 split\n",
    "            idx = np.zeros(n_songs, dtype='bool')\n",
    "            idx[np.random.choice(n_songs, size=int(test_prop * n_songs), replace=False).astype('int64')] = True\n",
    "\n",
    "            train.append(group[np.logical_not(idx)])\n",
    "            test.append(group[idx])\n",
    "        else:\n",
    "            train.append(group)\n",
    "\n",
    "        if i % 1000 == 0:\n",
    "            print(\"%d playlist sampled\" % i)\n",
    "            sys.stdout.flush()\n",
    "\n",
    "    data_train = pd.concat(train)\n",
    "    data_test = pd.concat(test)\n",
    "    \n",
    "    return data_train, data_test"
   ]
  },
  {
   "cell_type": "code",
   "execution_count": 18,
   "id": "6f416d82",
   "metadata": {
    "colab": {
     "base_uri": "https://localhost:8080/"
    },
    "executionInfo": {
     "elapsed": 23860,
     "status": "ok",
     "timestamp": 1642773377034,
     "user": {
      "displayName": "권송아",
      "photoUrl": "https://lh3.googleusercontent.com/a/default-user=s64",
      "userId": "17413402186240137810"
     },
     "user_tz": -540
    },
    "id": "6f416d82",
    "outputId": "b2466839-41ba-4430-9eee-3ef4b184c678"
   },
   "outputs": [
    {
     "name": "stdout",
     "output_type": "stream",
     "text": [
      "0 playlist sampled\n",
      "1000 playlist sampled\n",
      "2000 playlist sampled\n",
      "3000 playlist sampled\n",
      "4000 playlist sampled\n",
      "5000 playlist sampled\n",
      "6000 playlist sampled\n",
      "7000 playlist sampled\n",
      "8000 playlist sampled\n",
      "9000 playlist sampled\n",
      "10000 playlist sampled\n",
      "11000 playlist sampled\n",
      "12000 playlist sampled\n",
      "13000 playlist sampled\n",
      "14000 playlist sampled\n",
      "15000 playlist sampled\n",
      "16000 playlist sampled\n",
      "17000 playlist sampled\n",
      "18000 playlist sampled\n",
      "19000 playlist sampled\n"
     ]
    }
   ],
   "source": [
    "valid_data_train, valid_data_test = split_train_test_proportion(valid_data)"
   ]
  },
  {
   "cell_type": "code",
   "execution_count": 19,
   "id": "84416631",
   "metadata": {
    "colab": {
     "base_uri": "https://localhost:8080/"
    },
    "executionInfo": {
     "elapsed": 11640,
     "status": "ok",
     "timestamp": 1642773388669,
     "user": {
      "displayName": "권송아",
      "photoUrl": "https://lh3.googleusercontent.com/a/default-user=s64",
      "userId": "17413402186240137810"
     },
     "user_tz": -540
    },
    "id": "84416631",
    "outputId": "a8711998-527e-4364-e850-13df0ccb9a12",
    "scrolled": true
   },
   "outputs": [
    {
     "name": "stdout",
     "output_type": "stream",
     "text": [
      "0 playlist sampled\n",
      "1000 playlist sampled\n",
      "2000 playlist sampled\n",
      "3000 playlist sampled\n",
      "4000 playlist sampled\n",
      "5000 playlist sampled\n",
      "6000 playlist sampled\n",
      "7000 playlist sampled\n",
      "8000 playlist sampled\n",
      "9000 playlist sampled\n"
     ]
    }
   ],
   "source": [
    "test_data_train, test_data_test = split_train_test_proportion(test_data)"
   ]
  },
  {
   "cell_type": "code",
   "execution_count": 20,
   "id": "92723f82",
   "metadata": {
    "id": "92723f82"
   },
   "outputs": [],
   "source": [
    "DATA_DIR = './data/preprocessed'\n",
    "\n",
    "if not os.path.isdir(DATA_DIR):\n",
    "    os.makedirs(DATA_DIR) "
   ]
  },
  {
   "cell_type": "code",
   "execution_count": 21,
   "id": "d50564ab",
   "metadata": {
    "id": "d50564ab",
    "scrolled": true
   },
   "outputs": [],
   "source": [
    "train_data.to_csv(os.path.join(DATA_DIR, 'train.csv'), index=False)\n",
    "valid_data_train.to_csv(os.path.join(DATA_DIR, 'validation_tr.csv'), index=False)\n",
    "valid_data_test.to_csv(os.path.join(DATA_DIR, 'validation_te.csv'), index=False)\n",
    "test_data_train.to_csv(os.path.join(DATA_DIR, 'test_tr.csv'), index=False)\n",
    "test_data_test.to_csv(os.path.join(DATA_DIR, 'test_te.csv'), index=False)"
   ]
  },
  {
   "cell_type": "markdown",
   "id": "6ff57b68",
   "metadata": {
    "id": "6ff57b68"
   },
   "source": [
    "## 2-2. 저장된 데이터 세트 불러오기"
   ]
  },
  {
   "cell_type": "code",
   "execution_count": 22,
   "id": "jOM50jaEj7l8",
   "metadata": {
    "id": "jOM50jaEj7l8"
   },
   "outputs": [],
   "source": [
    "DATA_DIR = \"./data/preprocessed\""
   ]
  },
  {
   "cell_type": "code",
   "execution_count": 23,
   "id": "1a0da531",
   "metadata": {
    "id": "1a0da531"
   },
   "outputs": [],
   "source": [
    "def load_train_data(csv_file):\n",
    "    data = pd.read_csv(csv_file)\n",
    "    n_ply = data['id'].max() + 1\n",
    "\n",
    "    rows, cols = data['id'], data['songs']\n",
    "    data = sparse.csr_matrix((np.ones_like(rows),\n",
    "                             (rows, cols)), dtype='float64',\n",
    "                             shape=(n_ply, n_songs))\n",
    "    return data"
   ]
  },
  {
   "cell_type": "code",
   "execution_count": 24,
   "id": "451d9ad5",
   "metadata": {
    "id": "451d9ad5"
   },
   "outputs": [],
   "source": [
    "def load_train_test_data(csv_file_train, csv_file_test):\n",
    "    data_train = pd.read_csv(csv_file_train)\n",
    "    data_test = pd.read_csv(csv_file_test)\n",
    "\n",
    "    start_idx = min(data_train['id'].min(), data_test['id'].min())\n",
    "    end_idx = max(data_train['id'].max(), data_test['id'].max())\n",
    "\n",
    "    rows_train, cols_train = data_train['id'] - start_idx, data_train['songs']\n",
    "    rows_test, cols_test = data_test['id'] - start_idx, data_test['songs']\n",
    "\n",
    "    data_train_split = sparse.csr_matrix((np.ones_like(rows_train),\n",
    "                             (rows_train, cols_train)), dtype='float64', shape=(end_idx - start_idx + 1, n_songs))\n",
    "    data_test_split = sparse.csr_matrix((np.ones_like(rows_test),\n",
    "                             (rows_test, cols_test)), dtype='float64', shape=(end_idx - start_idx + 1, n_songs))\n",
    "    return data_train_split, data_test_split"
   ]
  },
  {
   "cell_type": "code",
   "execution_count": 26,
   "id": "7495d69e",
   "metadata": {
    "id": "7495d69e"
   },
   "outputs": [],
   "source": [
    "train_data = load_train_data(os.path.join(DATA_DIR, 'train.csv'))\n",
    "valid_data_train, valid_data_test = load_train_test_data(os.path.join(DATA_DIR, 'validation_tr.csv'),\n",
    "                                           os.path.join(DATA_DIR, 'validation_te.csv'))\n",
    "test_data_train, test_data_test = load_train_test_data(os.path.join(DATA_DIR, 'test_tr.csv'),\n",
    "                                             os.path.join(DATA_DIR, 'test_te.csv'))"
   ]
  },
  {
   "cell_type": "code",
   "execution_count": 27,
   "id": "NJ8UF5UGagr0",
   "metadata": {
    "colab": {
     "base_uri": "https://localhost:8080/"
    },
    "executionInfo": {
     "elapsed": 4,
     "status": "ok",
     "timestamp": 1642774792579,
     "user": {
      "displayName": "권송아",
      "photoUrl": "https://lh3.googleusercontent.com/a/default-user=s64",
      "userId": "17413402186240137810"
     },
     "user_tz": -540
    },
    "id": "NJ8UF5UGagr0",
    "outputId": "0b4ae481-2798-4a88-d734-7664bc741597"
   },
   "outputs": [
    {
     "data": {
      "text/plain": [
       "(2109174, 670036, 157826, 336193, 79176)"
      ]
     },
     "execution_count": 27,
     "metadata": {},
     "output_type": "execute_result"
    }
   ],
   "source": [
    "train_data.nnz, valid_data_train.nnz, valid_data_test.nnz, test_data_train.nnz, test_data_test.nnz"
   ]
  },
  {
   "cell_type": "markdown",
   "id": "1078bbb1",
   "metadata": {
    "id": "1078bbb1"
   },
   "source": [
    "# 3. Model 정의"
   ]
  },
  {
   "cell_type": "markdown",
   "id": "1b1de62a",
   "metadata": {
    "id": "1b1de62a"
   },
   "source": [
    "#### 하이퍼 파라미터"
   ]
  },
  {
   "cell_type": "code",
   "execution_count": 28,
   "id": "78c82006",
   "metadata": {
    "id": "78c82006"
   },
   "outputs": [],
   "source": [
    "N = train_data.shape[0] # 학습 세트 수\n",
    "idxlist = np.arange(N)\n",
    "batch_size = 1 # 학습 세트 배치 크기\n",
    "batches_per_epoch = int(np.ceil(float(N) / batch_size))\n",
    "\n",
    "N_vad = valid_data_train.shape[0] # 검증 세트 수\n",
    "idxlist_vad = range(N_vad) \n",
    "batch_size_vad = 1 # 검증 세트 배치 크기\n",
    "\n",
    "N_test = test_data_train.shape[0] # 테스트 세트 수\n",
    "idxlist_test = range(N_test)\n",
    "batch_size_test = 1 # 테스트 세트 배치 크기\n",
    "\n",
    "#total_anneal_steps = 200000 # annealing을 위한 gradient 업데이트 수\n",
    "#anneal_cap = 0.2 # 논문 실험 결과, 가장 좋은 anneal 수치\n",
    "\n",
    "n_epochs = 2 # epoch 수"
   ]
  },
  {
   "cell_type": "markdown",
   "id": "573ec673",
   "metadata": {
    "id": "573ec673"
   },
   "source": [
    "#### 모델 & 평가지표 load"
   ]
  },
  {
   "cell_type": "code",
   "execution_count": 29,
   "id": "67764d47",
   "metadata": {
    "id": "67764d47"
   },
   "outputs": [],
   "source": [
    "import sys\n",
    "sys.path.append('./models')\n",
    "\n",
    "from models import MultiDAE, MultiVAE\n",
    "import evaluation_metrics as me"
   ]
  },
  {
   "cell_type": "code",
   "execution_count": 30,
   "id": "efaabeef",
   "metadata": {
    "id": "efaabeef"
   },
   "outputs": [],
   "source": [
    "# DAE\n",
    "p_dims = [200, n_songs]\n",
    "dae = MultiDAE(p_dims, lam=0.01 / batch_size, dropout_prob = 0.5, random_seed=98765)\n",
    "dae.compile(optimizer=\"adam\", loss=dae.loss)\n",
    "\n",
    "DAE_SAVE_DIR = './models/best_model' \n",
    "if not os.path.exists(DAE_SAVE_DIR):\n",
    "    os.makedirs(DAE_SAVE_DIR)"
   ]
  },
  {
   "cell_type": "code",
   "execution_count": 32,
   "id": "5daffe88",
   "metadata": {},
   "outputs": [
    {
     "data": {
      "text/plain": [
       "<tensorflow.python.training.tracking.util.CheckpointLoadStatus at 0x261a0ab0910>"
      ]
     },
     "execution_count": 32,
     "metadata": {},
     "output_type": "execute_result"
    }
   ],
   "source": [
    "dae.load_weights(os.path.join(DAE_SAVE_DIR, \"best_dae_model\"))"
   ]
  },
  {
   "cell_type": "markdown",
   "id": "f835f539",
   "metadata": {
    "id": "f835f539"
   },
   "source": [
    "# 4. 학습"
   ]
  },
  {
   "cell_type": "markdown",
   "id": "186579a5",
   "metadata": {
    "id": "186579a5"
   },
   "source": [
    "## 4-1. DAE 학습 & 평가"
   ]
  },
  {
   "cell_type": "code",
   "execution_count": null,
   "id": "e5b31e3d",
   "metadata": {},
   "outputs": [],
   "source": [
    "ndcgs_valid = []\n",
    "best_epoch = -1\n",
    "best_ndcg = -np.inf"
   ]
  },
  {
   "cell_type": "code",
   "execution_count": null,
   "id": "b3055f4a",
   "metadata": {
    "colab": {
     "base_uri": "https://localhost:8080/"
    },
    "executionInfo": {
     "elapsed": 944802,
     "status": "ok",
     "timestamp": 1642775746852,
     "user": {
      "displayName": "권송아",
      "photoUrl": "https://lh3.googleusercontent.com/a/default-user=s64",
      "userId": "17413402186240137810"
     },
     "user_tz": -540
    },
    "id": "b3055f4a",
    "outputId": "13072595-0c8a-4831-886f-354541e28ea5"
   },
   "outputs": [],
   "source": [
    "for epoch in range(n_epochs):\n",
    "    # 학습\n",
    "    np.random.shuffle(idxlist)\n",
    "    print(\"\\ntrain loop\")\n",
    "    for step, st_idx in enumerate(range(0, N, batch_size)):\n",
    "        end_idx = min(st_idx + batch_size, N)\n",
    "        X = train_data[idxlist[st_idx:end_idx]]\n",
    "        \n",
    "        if X.nnz == 0:\n",
    "            continue\n",
    "        \n",
    "        if sparse.isspmatrix(X):\n",
    "            X = X.toarray()\n",
    "        X = X.astype('float32')   \n",
    "        \n",
    "        dae.fit(X, verbose=0)\n",
    "        break\n",
    "        if step % 10 == 0:\n",
    "          print(step, end=\" \")\n",
    "\n",
    "    # 검증 & NDCG\n",
    "    ndcg_dist = []\n",
    "    print(\"\\nvalid loop\")\n",
    "    for step, st_idx in enumerate(range(0, N_vad, batch_size_vad)):\n",
    "        end_idx = min(st_idx + batch_size_vad, N_vad)\n",
    "        X = valid_data_train[idxlist_vad[st_idx:end_idx]]\n",
    "        y = valid_data_test[idxlist_vad[st_idx:end_idx]]\n",
    "        \n",
    "        if X.nnz == 0 or y.nnz == 0:\n",
    "            continue\n",
    "        \n",
    "        if sparse.isspmatrix(X):\n",
    "            X = X.toarray()\n",
    "        X = X.astype('float32')\n",
    "    \n",
    "        pred_val = dae.test(X)\n",
    "        pred_val = pred_val.numpy()\n",
    "        pred_val[X.nonzero()] = -np.inf # train에서 사용된 샘플 제외\n",
    "        ndcg_dist.append(me.NDCG(pred_val, y, k=100))\n",
    "        break\n",
    "        if step % 10 == 0:\n",
    "            print(step, end=\" \")\n",
    "\n",
    "    ndcg_dist = np.concatenate(ndcg_dist)\n",
    "    ndcg_dist[np.isnan(ndcg_dist)]=0 ##Nan값 0으로 바꾸기\n",
    "    ndcg_ = ndcg_dist.mean()\n",
    "    ndcgs_valid.append(ndcg_)\n",
    "    \n",
    "    if ndcg_ > best_ndcg:\n",
    "        best_epoch = epoch\n",
    "        best_ndcg = ndcg_\n",
    "        print(epoch, best_ndcg)\n",
    "        dae.save_weights(os.path.join(DAE_SAVE_DIR, \"best_dae_model\")) # 모델 저장"
   ]
  },
  {
   "cell_type": "code",
   "execution_count": 7,
   "id": "9fd207ed",
   "metadata": {},
   "outputs": [],
   "source": [
    "# best: epoch 6\n",
    "ndcgs_valid = [0.009, 0.010, 0.010491380946078174, 0.010551602153828415, 0.01066607815009429, 0.011066752336179165, 0.010591064504233064]"
   ]
  },
  {
   "cell_type": "code",
   "execution_count": 8,
   "id": "4fc5814a",
   "metadata": {
    "colab": {
     "base_uri": "https://localhost:8080/",
     "height": 230
    },
    "executionInfo": {
     "elapsed": 398,
     "status": "ok",
     "timestamp": 1642775799472,
     "user": {
      "displayName": "권송아",
      "photoUrl": "https://lh3.googleusercontent.com/a/default-user=s64",
      "userId": "17413402186240137810"
     },
     "user_tz": -540
    },
    "id": "4fc5814a",
    "outputId": "ebf2a91e-7a94-4bae-a264-bc8a41783a32"
   },
   "outputs": [
    {
     "data": {
      "image/png": "[encoded data removed]",
      "text/plain": [
       "<Figure size 864x216 with 1 Axes>"
      ]
     },
     "metadata": {
      "needs_background": "light"
     },
     "output_type": "display_data"
    }
   ],
   "source": [
    "plt.figure(figsize=(12, 3))\n",
    "plt.plot(ndcgs_valid)\n",
    "plt.ylabel(\"Validation NDCG@100\")\n",
    "plt.xlabel(\"Epochs\")\n",
    "pass"
   ]
  },
  {
   "cell_type": "markdown",
   "id": "e9906d4d",
   "metadata": {
    "id": "e9906d4d"
   },
   "source": [
    "### 평가"
   ]
  },
  {
   "cell_type": "markdown",
   "id": "aa84ffe8",
   "metadata": {
    "id": "aa84ffe8"
   },
   "source": [
    "#### Best Model 로드"
   ]
  },
  {
   "cell_type": "code",
   "execution_count": 33,
   "id": "6654a471",
   "metadata": {
    "id": "6654a471"
   },
   "outputs": [],
   "source": [
    "# DAE\n",
    "p_dims = [200, n_songs]\n",
    "best_dae = MultiDAE(p_dims, lam=0.01 / batch_size, dropout_prob = 0.5, random_seed=98765)\n",
    "best_dae.compile(optimizer=\"adam\", loss=dae.loss)"
   ]
  },
  {
   "cell_type": "code",
   "execution_count": 34,
   "id": "45ce2e23",
   "metadata": {},
   "outputs": [
    {
     "data": {
      "text/plain": [
       "<tensorflow.python.training.tracking.util.CheckpointLoadStatus at 0x261a0ab0e50>"
      ]
     },
     "execution_count": 34,
     "metadata": {},
     "output_type": "execute_result"
    }
   ],
   "source": [
    "best_dae.load_weights(os.path.join(DAE_SAVE_DIR, \"best_dae_model\"))"
   ]
  },
  {
   "cell_type": "code",
   "execution_count": 17,
   "id": "7e0f4c16",
   "metadata": {
    "colab": {
     "base_uri": "https://localhost:8080/"
    },
    "executionInfo": {
     "elapsed": 172285,
     "status": "ok",
     "timestamp": 1642775971746,
     "user": {
      "displayName": "권송아",
      "photoUrl": "https://lh3.googleusercontent.com/a/default-user=s64",
      "userId": "17413402186240137810"
     },
     "user_tz": -540
    },
    "id": "7e0f4c16",
    "outputId": "7c4bece3-a5d7-45d6-c8cd-c3b021d24742"
   },
   "outputs": [
    {
     "name": "stdout",
     "output_type": "stream",
     "text": [
      "0 "
     ]
    },
    {
     "name": "stderr",
     "output_type": "stream",
     "text": [
      "C:\\Users\\gunso\\Downloads\\songs\\./models\\evaluation_metrics.py:28: RuntimeWarning: invalid value encountered in true_divide\n",
      "  return DCG / IDCG\n",
      "C:\\Users\\gunso\\Downloads\\songs\\./models\\evaluation_metrics.py:12: RuntimeWarning: invalid value encountered in true_divide\n",
      "  recall = tmp / np.minimum(k, true_val.sum(axis=1))\n"
     ]
    },
    {
     "name": "stdout",
     "output_type": "stream",
     "text": [
      "10 20 30 40 50 60 70 80 90 100 110 120 130 140 150 160 170 180 190 "
     ]
    },
    {
     "ename": "KeyboardInterrupt",
     "evalue": "",
     "output_type": "error",
     "traceback": [
      "\u001b[1;31m---------------------------------------------------------------------------\u001b[0m",
      "\u001b[1;31mKeyboardInterrupt\u001b[0m                         Traceback (most recent call last)",
      "\u001b[1;32m~\\AppData\\Local\\Temp/ipykernel_5160/4159806309.py\u001b[0m in \u001b[0;36m<module>\u001b[1;34m\u001b[0m\n\u001b[0;32m     29\u001b[0m \u001b[1;33m\u001b[0m\u001b[0m\n\u001b[0;32m     30\u001b[0m     \u001b[0mn100_list\u001b[0m\u001b[1;33m.\u001b[0m\u001b[0mappend\u001b[0m\u001b[1;33m(\u001b[0m\u001b[0mme\u001b[0m\u001b[1;33m.\u001b[0m\u001b[0mNDCG\u001b[0m\u001b[1;33m(\u001b[0m\u001b[0mpred_val\u001b[0m\u001b[1;33m,\u001b[0m \u001b[0mtest_data_test\u001b[0m\u001b[1;33m[\u001b[0m\u001b[0midxlist_test\u001b[0m\u001b[1;33m[\u001b[0m\u001b[0mst_idx\u001b[0m\u001b[1;33m:\u001b[0m\u001b[0mend_idx\u001b[0m\u001b[1;33m]\u001b[0m\u001b[1;33m]\u001b[0m\u001b[1;33m,\u001b[0m \u001b[0mk\u001b[0m\u001b[1;33m=\u001b[0m\u001b[1;36m100\u001b[0m\u001b[1;33m)\u001b[0m\u001b[1;33m)\u001b[0m\u001b[1;33m\u001b[0m\u001b[1;33m\u001b[0m\u001b[0m\n\u001b[1;32m---> 31\u001b[1;33m     \u001b[0mr100_list\u001b[0m\u001b[1;33m.\u001b[0m\u001b[0mappend\u001b[0m\u001b[1;33m(\u001b[0m\u001b[0mme\u001b[0m\u001b[1;33m.\u001b[0m\u001b[0mRecall\u001b[0m\u001b[1;33m(\u001b[0m\u001b[0mpred_val\u001b[0m\u001b[1;33m,\u001b[0m \u001b[0mtest_data_test\u001b[0m\u001b[1;33m[\u001b[0m\u001b[0midxlist_test\u001b[0m\u001b[1;33m[\u001b[0m\u001b[0mst_idx\u001b[0m\u001b[1;33m:\u001b[0m\u001b[0mend_idx\u001b[0m\u001b[1;33m]\u001b[0m\u001b[1;33m]\u001b[0m\u001b[1;33m,\u001b[0m \u001b[0mk\u001b[0m\u001b[1;33m=\u001b[0m\u001b[1;36m100\u001b[0m\u001b[1;33m)\u001b[0m\u001b[1;33m)\u001b[0m\u001b[1;33m\u001b[0m\u001b[1;33m\u001b[0m\u001b[0m\n\u001b[0m\u001b[0;32m     32\u001b[0m \u001b[1;33m\u001b[0m\u001b[0m\n\u001b[0;32m     33\u001b[0m     \u001b[1;32mif\u001b[0m \u001b[0mstep\u001b[0m \u001b[1;33m%\u001b[0m \u001b[1;36m10\u001b[0m \u001b[1;33m==\u001b[0m \u001b[1;36m0\u001b[0m\u001b[1;33m:\u001b[0m\u001b[1;33m\u001b[0m\u001b[1;33m\u001b[0m\u001b[0m\n",
      "\u001b[1;32m~\\Downloads\\songs\\./models\\evaluation_metrics.py\u001b[0m in \u001b[0;36mRecall\u001b[1;34m(pred_val, true_val, k)\u001b[0m\n\u001b[0;32m      4\u001b[0m     \u001b[0mbatch_plys\u001b[0m \u001b[1;33m=\u001b[0m \u001b[0mpred_val\u001b[0m\u001b[1;33m.\u001b[0m\u001b[0mshape\u001b[0m\u001b[1;33m[\u001b[0m\u001b[1;36m0\u001b[0m\u001b[1;33m]\u001b[0m\u001b[1;33m\u001b[0m\u001b[1;33m\u001b[0m\u001b[0m\n\u001b[0;32m      5\u001b[0m \u001b[1;33m\u001b[0m\u001b[0m\n\u001b[1;32m----> 6\u001b[1;33m     \u001b[0midx\u001b[0m \u001b[1;33m=\u001b[0m \u001b[0mnp\u001b[0m\u001b[1;33m.\u001b[0m\u001b[0margpartition\u001b[0m\u001b[1;33m(\u001b[0m\u001b[1;33m-\u001b[0m\u001b[0mpred_val\u001b[0m\u001b[1;33m,\u001b[0m \u001b[0mk\u001b[0m\u001b[1;33m,\u001b[0m \u001b[0maxis\u001b[0m\u001b[1;33m=\u001b[0m\u001b[1;36m1\u001b[0m\u001b[1;33m)\u001b[0m\u001b[1;33m\u001b[0m\u001b[1;33m\u001b[0m\u001b[0m\n\u001b[0m\u001b[0;32m      7\u001b[0m     \u001b[0mpred_val\u001b[0m \u001b[1;33m=\u001b[0m \u001b[0mnp\u001b[0m\u001b[1;33m.\u001b[0m\u001b[0mzeros_like\u001b[0m\u001b[1;33m(\u001b[0m\u001b[0mpred_val\u001b[0m\u001b[1;33m,\u001b[0m \u001b[0mdtype\u001b[0m\u001b[1;33m=\u001b[0m\u001b[0mbool\u001b[0m\u001b[1;33m)\u001b[0m\u001b[1;33m\u001b[0m\u001b[1;33m\u001b[0m\u001b[0m\n\u001b[0;32m      8\u001b[0m     \u001b[0mpred_val\u001b[0m\u001b[1;33m[\u001b[0m\u001b[0mnp\u001b[0m\u001b[1;33m.\u001b[0m\u001b[0marange\u001b[0m\u001b[1;33m(\u001b[0m\u001b[0mbatch_plys\u001b[0m\u001b[1;33m)\u001b[0m\u001b[1;33m[\u001b[0m\u001b[1;33m:\u001b[0m\u001b[1;33m,\u001b[0m \u001b[0mnp\u001b[0m\u001b[1;33m.\u001b[0m\u001b[0mnewaxis\u001b[0m\u001b[1;33m]\u001b[0m\u001b[1;33m,\u001b[0m \u001b[0midx\u001b[0m\u001b[1;33m[\u001b[0m\u001b[1;33m:\u001b[0m\u001b[1;33m,\u001b[0m \u001b[1;33m:\u001b[0m\u001b[0mk\u001b[0m\u001b[1;33m]\u001b[0m\u001b[1;33m]\u001b[0m \u001b[1;33m=\u001b[0m \u001b[1;32mTrue\u001b[0m\u001b[1;33m\u001b[0m\u001b[1;33m\u001b[0m\u001b[0m\n",
      "\u001b[1;32m~\\anaconda3\\envs\\ts\\lib\\site-packages\\numpy\\core\\overrides.py\u001b[0m in \u001b[0;36margpartition\u001b[1;34m(*args, **kwargs)\u001b[0m\n",
      "\u001b[1;32m~\\anaconda3\\envs\\ts\\lib\\site-packages\\numpy\\core\\fromnumeric.py\u001b[0m in \u001b[0;36margpartition\u001b[1;34m(a, kth, axis, kind, order)\u001b[0m\n\u001b[0;32m    843\u001b[0m \u001b[1;33m\u001b[0m\u001b[0m\n\u001b[0;32m    844\u001b[0m     \"\"\"\n\u001b[1;32m--> 845\u001b[1;33m     \u001b[1;32mreturn\u001b[0m \u001b[0m_wrapfunc\u001b[0m\u001b[1;33m(\u001b[0m\u001b[0ma\u001b[0m\u001b[1;33m,\u001b[0m \u001b[1;34m'argpartition'\u001b[0m\u001b[1;33m,\u001b[0m \u001b[0mkth\u001b[0m\u001b[1;33m,\u001b[0m \u001b[0maxis\u001b[0m\u001b[1;33m=\u001b[0m\u001b[0maxis\u001b[0m\u001b[1;33m,\u001b[0m \u001b[0mkind\u001b[0m\u001b[1;33m=\u001b[0m\u001b[0mkind\u001b[0m\u001b[1;33m,\u001b[0m \u001b[0morder\u001b[0m\u001b[1;33m=\u001b[0m\u001b[0morder\u001b[0m\u001b[1;33m)\u001b[0m\u001b[1;33m\u001b[0m\u001b[1;33m\u001b[0m\u001b[0m\n\u001b[0m\u001b[0;32m    846\u001b[0m \u001b[1;33m\u001b[0m\u001b[0m\n\u001b[0;32m    847\u001b[0m \u001b[1;33m\u001b[0m\u001b[0m\n",
      "\u001b[1;32m~\\anaconda3\\envs\\ts\\lib\\site-packages\\numpy\\core\\fromnumeric.py\u001b[0m in \u001b[0;36m_wrapfunc\u001b[1;34m(obj, method, *args, **kwds)\u001b[0m\n\u001b[0;32m     55\u001b[0m \u001b[1;33m\u001b[0m\u001b[0m\n\u001b[0;32m     56\u001b[0m     \u001b[1;32mtry\u001b[0m\u001b[1;33m:\u001b[0m\u001b[1;33m\u001b[0m\u001b[1;33m\u001b[0m\u001b[0m\n\u001b[1;32m---> 57\u001b[1;33m         \u001b[1;32mreturn\u001b[0m \u001b[0mbound\u001b[0m\u001b[1;33m(\u001b[0m\u001b[1;33m*\u001b[0m\u001b[0margs\u001b[0m\u001b[1;33m,\u001b[0m \u001b[1;33m**\u001b[0m\u001b[0mkwds\u001b[0m\u001b[1;33m)\u001b[0m\u001b[1;33m\u001b[0m\u001b[1;33m\u001b[0m\u001b[0m\n\u001b[0m\u001b[0;32m     58\u001b[0m     \u001b[1;32mexcept\u001b[0m \u001b[0mTypeError\u001b[0m\u001b[1;33m:\u001b[0m\u001b[1;33m\u001b[0m\u001b[1;33m\u001b[0m\u001b[0m\n\u001b[0;32m     59\u001b[0m         \u001b[1;31m# A TypeError occurs if the object does have such a method in its\u001b[0m\u001b[1;33m\u001b[0m\u001b[1;33m\u001b[0m\u001b[0m\n",
      "\u001b[1;31mKeyboardInterrupt\u001b[0m: "
     ]
    }
   ],
   "source": [
    "n3000_list, r3000_list = [], []\n",
    "n1000_list, r1000_list = [], []\n",
    "n500_list, r500_list = [], []\n",
    "n100_list, r100_list = [], []\n",
    "    \n",
    "for step, st_idx in enumerate(range(0, N_test, batch_size_test)):\n",
    "    end_idx = min(st_idx + batch_size_test, N_test)\n",
    "    X = test_data_train[idxlist_test[st_idx:end_idx]]\n",
    "    y = test_data_test[idxlist_test[st_idx:end_idx]]\n",
    "    \n",
    "    if X.nnz == 0:\n",
    "        continue\n",
    "    \n",
    "    if sparse.isspmatrix(X):\n",
    "        X = X.toarray()\n",
    "    X = X.astype('float32')\n",
    "\n",
    "    pred_val = dae.test(X)\n",
    "    pred_val = pred_val.numpy()\n",
    "    pred_val[X.nonzero()] = -np.inf # 학습과정에서 쓴 샘플들 제외\n",
    "    \n",
    "    n3000_list.append(me.NDCG(pred_val, y, k=3000))\n",
    "    r3000_list.append(me.Recall(pred_val, y, k=3000))\n",
    "\n",
    "    n1000_list.append(me.NDCG(pred_val, y, k=1000))\n",
    "    r1000_list.append(me.Recall(pred_val, y, k=1000))\n",
    "    \n",
    "    n500_list.append(me.NDCG(pred_val, y, k=500))\n",
    "    r500_list.append(me.Recall(pred_val, y, k=500))\n",
    "    \n",
    "    n100_list.append(me.NDCG(pred_val,y, k=100))\n",
    "    r100_list.append(me.Recall(pred_val, y, k=100))\n",
    "    \n",
    "    if step % 10 == 0:\n",
    "        print(step, end=\" \")\n",
    "\n",
    "n3000_list = np.concatenate(n3000_list)\n",
    "r3000_list = np.concatenate(r3000_list)\n",
    "n1000_list = np.concatenate(n1000_list)\n",
    "r1000_list = np.concatenate(r1000_list)\n",
    "n500_list = np.concatenate(n500_list)\n",
    "r500_list = np.concatenate(r500_list)\n",
    "n100_list = np.concatenate(n100_list)\n",
    "r100_list = np.concatenate(r100_list)"
   ]
  },
  {
   "cell_type": "code",
   "execution_count": 18,
   "id": "450045e3",
   "metadata": {
    "id": "450045e3"
   },
   "outputs": [
    {
     "ename": "TypeError",
     "evalue": "only integer scalar arrays can be converted to a scalar index",
     "output_type": "error",
     "traceback": [
      "\u001b[1;31m---------------------------------------------------------------------------\u001b[0m",
      "\u001b[1;31mTypeError\u001b[0m                                 Traceback (most recent call last)",
      "\u001b[1;32m~\\AppData\\Local\\Temp/ipykernel_5160/3920444062.py\u001b[0m in \u001b[0;36m<module>\u001b[1;34m\u001b[0m\n\u001b[0;32m      1\u001b[0m \u001b[1;31m##Nan값 0으로 바꾸기\u001b[0m\u001b[1;33m\u001b[0m\u001b[1;33m\u001b[0m\u001b[0m\n\u001b[1;32m----> 2\u001b[1;33m \u001b[0mn3000_list\u001b[0m\u001b[1;33m[\u001b[0m\u001b[0mnp\u001b[0m\u001b[1;33m.\u001b[0m\u001b[0misnan\u001b[0m\u001b[1;33m(\u001b[0m\u001b[0mn3000_list\u001b[0m\u001b[1;33m)\u001b[0m\u001b[1;33m]\u001b[0m\u001b[1;33m=\u001b[0m\u001b[1;36m0\u001b[0m\u001b[1;33m\u001b[0m\u001b[1;33m\u001b[0m\u001b[0m\n\u001b[0m\u001b[0;32m      3\u001b[0m \u001b[0mr3000_list\u001b[0m\u001b[1;33m[\u001b[0m\u001b[0mnp\u001b[0m\u001b[1;33m.\u001b[0m\u001b[0misnan\u001b[0m\u001b[1;33m(\u001b[0m\u001b[0mr3000_list\u001b[0m\u001b[1;33m)\u001b[0m\u001b[1;33m]\u001b[0m\u001b[1;33m=\u001b[0m\u001b[1;36m0\u001b[0m\u001b[1;33m\u001b[0m\u001b[1;33m\u001b[0m\u001b[0m\n\u001b[0;32m      4\u001b[0m \u001b[1;33m\u001b[0m\u001b[0m\n\u001b[0;32m      5\u001b[0m \u001b[0mn1000_list\u001b[0m\u001b[1;33m[\u001b[0m\u001b[0mnp\u001b[0m\u001b[1;33m.\u001b[0m\u001b[0misnan\u001b[0m\u001b[1;33m(\u001b[0m\u001b[0mn1000_list\u001b[0m\u001b[1;33m)\u001b[0m\u001b[1;33m]\u001b[0m\u001b[1;33m=\u001b[0m\u001b[1;36m0\u001b[0m\u001b[1;33m\u001b[0m\u001b[1;33m\u001b[0m\u001b[0m\n",
      "\u001b[1;31mTypeError\u001b[0m: only integer scalar arrays can be converted to a scalar index"
     ]
    }
   ],
   "source": [
    "##Nan값 0으로 바꾸기\n",
    "n3000_list[np.isnan(n3000_list)]=0\n",
    "r3000_list[np.isnan(r3000_list)]=0\n",
    "\n",
    "n1000_list[np.isnan(n1000_list)]=0\n",
    "r1000_list[np.isnan(r1000_list)]=0\n",
    "\n",
    "n500_list[np.isnan(n500_list)]=0\n",
    "r500_list[np.isnan(r500_list)]=0\n",
    "\n",
    "n100_list[np.isnan(n100_list)]=0\n",
    "r100_list[np.isnan(r100_list)]=0"
   ]
  },
  {
   "cell_type": "code",
   "execution_count": 19,
   "id": "f7d28fea",
   "metadata": {
    "colab": {
     "base_uri": "https://localhost:8080/"
    },
    "executionInfo": {
     "elapsed": 4,
     "status": "ok",
     "timestamp": 1642775979090,
     "user": {
      "displayName": "권송아",
      "photoUrl": "https://lh3.googleusercontent.com/a/default-user=s64",
      "userId": "17413402186240137810"
     },
     "user_tz": -540
    },
    "id": "f7d28fea",
    "outputId": "838bc30e-774a-45e8-8b4f-16ff97a34569"
   },
   "outputs": [
    {
     "name": "stdout",
     "output_type": "stream",
     "text": [
      "Test NDCG@3000=nan (nan)\n",
      "Test Recall@3000=nan (nan)\n",
      "\n",
      "Test NDCG@1000=nan (nan)\n",
      "Test Recall@1000=nan (nan)\n",
      "\n",
      "Test NDCG@500=nan (nan)\n",
      "Test Recall@500=nan (nan)\n",
      "\n",
      "Test NDCG@100=nan (nan)\n",
      "Test Recall@100=nan (nan)\n",
      "\n"
     ]
    }
   ],
   "source": [
    "print(\"Test NDCG@3000=%.5f (%.5f)\" % (np.mean(n3000_list), np.std(n3000_list) / np.sqrt(len(n3000_list))))\n",
    "print(\"Test Recall@3000=%.5f (%.5f)\\n\" % (np.mean(r3000_list), np.std(r3000_list) / np.sqrt(len(r3000_list))))\n",
    "\n",
    "print(\"Test NDCG@1000=%.5f (%.5f)\" % (np.mean(n1000_list), np.std(n1000_list) / np.sqrt(len(n1000_list))))\n",
    "print(\"Test Recall@1000=%.5f (%.5f)\\n\" % (np.mean(r1000_list), np.std(r1000_list) / np.sqrt(len(r1000_list))))\n",
    "\n",
    "print(\"Test NDCG@500=%.5f (%.5f)\" % (np.mean(n500_list), np.std(n500_list) / np.sqrt(len(n500_list))))\n",
    "print(\"Test Recall@500=%.5f (%.5f)\\n\" % (np.mean(r500_list), np.std(r500_list) / np.sqrt(len(r500_list))))\n",
    "\n",
    "print(\"Test NDCG@100=%.5f (%.5f)\" % (np.mean(n100_list), np.std(n100_list) / np.sqrt(len(n100_list))))\n",
    "print(\"Test Recall@100=%.5f (%.5f)\\n\" % (np.mean(r100_list), np.std(r100_list) / np.sqrt(len(r100_list))))"
   ]
  },
  {
   "cell_type": "code",
   "execution_count": 1,
   "id": "c8926f76",
   "metadata": {},
   "outputs": [
    {
     "data": {
      "image/jpeg": "[encoded data removed]",
      "text/plain": [
       "<IPython.core.display.Image object>"
      ]
     },
     "execution_count": 1,
     "metadata": {},
     "output_type": "execute_result"
    }
   ],
   "source": [
    "from IPython.display import Image\n",
    "Image(\"result.JPG\")"
   ]
  },
  {
   "cell_type": "markdown",
   "id": "f3bff196",
   "metadata": {},
   "source": [
    "### 결과 확인"
   ]
  },
  {
   "cell_type": "code",
   "execution_count": null,
   "id": "ed35dd48",
   "metadata": {},
   "outputs": [],
   "source": [
    "SONG_RAW_DIR = './data/raw'\n",
    "song_meta = pd.read_json(os.path.join(DIR, 'song_meta.json'),typ = 'frame')\n",
    "\n",
    "X = test_data_train[0]\n",
    "pred_val = best_dae.test(pred_val)"
   ]
  },
  {
   "cell_type": "code",
   "execution_count": null,
   "id": "e2f328e0",
   "metadata": {},
   "outputs": [],
   "source": [
    "X_t = np.transpose(np.nonzero(X))\n",
    "song_meta.loc[X_t[:,1]]['song_name'][:10]"
   ]
  },
  {
   "cell_type": "code",
   "execution_count": null,
   "id": "427c2486",
   "metadata": {},
   "outputs": [],
   "source": [
    "pred_val_t = pred_val.numpy()\n",
    "np.where(pred_val_t<0, 0, pred_val_t)\n",
    "idx_topk_part = np.argsort(-pred_val_t[0])\n",
    "print(song_meta.iloc[idx_topk_part]['song_name'])"
   ]
  }
 ],
 "metadata": {
  "accelerator": "GPU",
  "colab": {
   "collapsed_sections": [],
   "name": "ourModel.ipynb",
   "provenance": []
  },
  "kernelspec": {
   "display_name": "ts",
   "language": "python",
   "name": "ts"
  },
  "language_info": {
   "codemirror_mode": {
    "name": "ipython",
    "version": 3
   },
   "file_extension": ".py",
   "mimetype": "text/x-python",
   "name": "python",
   "nbconvert_exporter": "python",
   "pygments_lexer": "ipython3",
   "version": "3.9.7"
  }
 },
 "nbformat": 4,
 "nbformat_minor": 5
}
